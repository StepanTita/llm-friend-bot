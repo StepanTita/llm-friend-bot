{
 "cells": [
  {
   "cell_type": "code",
   "execution_count": 1,
   "id": "2e99b195",
   "metadata": {},
   "outputs": [],
   "source": [
    "from transliterate import translit\n",
    "\n",
    "import pandas as pd\n",
    "import numpy as np\n",
    "\n",
    "import json\n",
    "import re\n",
    "import os"
   ]
  },
  {
   "cell_type": "markdown",
   "id": "5c0d0fe3",
   "metadata": {},
   "source": [
    "# TODO\n",
    "* MVP with only personal chats\n",
    "* Add aliases to LINKS and PICTURES (a lot of data is based on that)\n",
    "* Add aliases to emojis"
   ]
  },
  {
   "cell_type": "code",
   "execution_count": 2,
   "id": "79d2657d",
   "metadata": {},
   "outputs": [],
   "source": [
    "BASIC_PATH = './'"
   ]
  },
  {
   "cell_type": "code",
   "execution_count": 3,
   "id": "9770ce9b",
   "metadata": {},
   "outputs": [],
   "source": [
    "# with open(f'{BASIC_PATH}/data/result.json', 'r') as inp, open(f'{BASIC_PATH}/data/chats.json', 'w') as out:\n",
    "#     doc = json.load(inp)\n",
    "#     out.write(json.dumps(doc['chats']['list']))"
   ]
  },
  {
   "cell_type": "code",
   "execution_count": null,
   "id": "6d64814c",
   "metadata": {},
   "outputs": [],
   "source": [
    "data = pd.read_json(f'{BASIC_PATH}/data/chats.json')\n",
    "data"
   ]
  },
  {
   "cell_type": "code",
   "execution_count": 5,
   "id": "aff411d8",
   "metadata": {},
   "outputs": [],
   "source": [
    "FILTER_CHATS = ['Telegram']"
   ]
  },
  {
   "cell_type": "code",
   "execution_count": null,
   "id": "a497094d",
   "metadata": {},
   "outputs": [],
   "source": [
    "personal_chats = data[(data['type'] == 'personal_chat') & (~data['name'].isin(FILTER_CHATS))][['name', 'id']]\n",
    "personal_chats"
   ]
  },
  {
   "cell_type": "code",
   "execution_count": null,
   "id": "bbf3a007",
   "metadata": {},
   "outputs": [],
   "source": [
    "group_chats = data[data['type'].isin(['private_supergroup', 'private_group']) ][['name', 'id']]\n",
    "group_chats"
   ]
  },
  {
   "cell_type": "code",
   "execution_count": 8,
   "id": "12ae91b9",
   "metadata": {},
   "outputs": [],
   "source": [
    "ME_ID = 'user372675274'"
   ]
  },
  {
   "cell_type": "code",
   "execution_count": 9,
   "id": "793ba963",
   "metadata": {},
   "outputs": [
    {
     "data": {
      "text/plain": [
       "((159, 2), (106, 2))"
      ]
     },
     "execution_count": 9,
     "metadata": {},
     "output_type": "execute_result"
    }
   ],
   "source": [
    "personal_chats.shape, group_chats.shape"
   ]
  },
  {
   "cell_type": "code",
   "execution_count": null,
   "id": "0832a3a1",
   "metadata": {},
   "outputs": [],
   "source": [
    "messages = pd.DataFrame(data[data['name'] ==  'Ангелина 🦊']['messages'][2])\n",
    "messages['date_unixtime'] = messages['date_unixtime'].apply(int)\n",
    "messages"
   ]
  },
  {
   "cell_type": "code",
   "execution_count": 11,
   "id": "0c68f5a9",
   "metadata": {},
   "outputs": [],
   "source": [
    "def shrink(messages):\n",
    "    messages_shrinked = pd.DataFrame()\n",
    "    i = -1\n",
    "    for idx, row in messages.iterrows():\n",
    "        if len(messages_shrinked) > 0 and messages_shrinked.loc[i, 'from_id'] == row['from_id'] and row['date_unixtime'] - messages_shrinked.loc[i, 'date_unixtime'] <= 5 * 60:\n",
    "            txt = row['text']\n",
    "            if type(row['text']) == list:\n",
    "                txt = ''\n",
    "                for item in row['text']:\n",
    "                    if type(item) == dict and 'type' in item and item['type'] in ['link']:\n",
    "                        txt += f'<{item[\"type\"].upper()}>'\n",
    "                    elif type(item) == dict and 'text' in item:\n",
    "                        txt += item['text']\n",
    "                    else:\n",
    "                        txt += item\n",
    "            messages_shrinked.loc[i, 'text'] = messages_shrinked.loc[i, 'text'] + '\\n' + txt\n",
    "        else:\n",
    "            new_row = pd.DataFrame(row).T\n",
    "            messages_shrinked = pd.concat([messages_shrinked, new_row], axis=0, ignore_index=True).reset_index(drop=True)\n",
    "            i+=1\n",
    "            txt = row['text']\n",
    "            if type(row['text']) == list:\n",
    "                txt = ''\n",
    "                for item in row['text']:\n",
    "                    if type(item) == dict and 'type' in item and item['type'] in ['link']:\n",
    "                        txt += f'<{item[\"type\"].upper()}>'\n",
    "                    elif type(item) == dict and 'text' in item:\n",
    "                        txt += item['text']\n",
    "                    else:\n",
    "                        txt += item\n",
    "            messages_shrinked.loc[i, 'text'] = txt\n",
    "    return messages_shrinked"
   ]
  },
  {
   "cell_type": "code",
   "execution_count": 12,
   "id": "9eac444b",
   "metadata": {},
   "outputs": [],
   "source": [
    "def get_messages(data, agent):\n",
    "    messages = pd.DataFrame(data[data['id'] ==  agent]['messages'].iloc[0])\n",
    "    messages = messages[messages['type'] == 'message']\n",
    "    messages = messages[messages['text'] != '']\n",
    "    messages['date_unixtime'] = messages['date_unixtime'].apply(int)\n",
    "    return messages"
   ]
  },
  {
   "cell_type": "code",
   "execution_count": 16,
   "id": "c9123536",
   "metadata": {},
   "outputs": [],
   "source": [
    "def build_dialog(messages):\n",
    "    \"\"\"\n",
    "    * First message should always be not from me.\n",
    "    * If some message was 'ignored' - then add answer as empty string\n",
    "    * Dialog is considered finished it the last message was more than 8 hours ago\n",
    "    \"\"\"\n",
    "    columns = ['id', 'date', 'date_unixtime', 'from', 'from_id', 'prompt', 'answer']\n",
    "    dialog = pd.DataFrame(columns=columns)\n",
    "    \n",
    "    i = -1\n",
    "    for idx, row in messages.iterrows():\n",
    "        answer = row['from_id'] == ME_ID\n",
    "        if len(dialog) == 0 or answer and dialog.loc[i, 'date_unixtime'] - row['date_unixtime'] >= 8 * 60 * 60:\n",
    "            dialog = pd.concat([dialog, pd.DataFrame({'prompt': '', 'date_unixtime': row['date_unixtime']}, index=[1])], axis=0, ignore_index=True)\n",
    "            i+=1\n",
    "        elif not answer:\n",
    "            new_row = pd.DataFrame({\n",
    "                'id': row['id'],\n",
    "                'date': row['date'],\n",
    "                'date_unixtime': row['date_unixtime'],\n",
    "                'from': row['from'],\n",
    "                'from_id': row['from_id'],\n",
    "                'prompt': row['text']\n",
    "            }, index=[1])\n",
    "            dialog = pd.concat([dialog, new_row], axis=0, ignore_index=True)\n",
    "            i+=1\n",
    "\n",
    "        # less than 8 hours passed between messages\n",
    "        if answer and dialog.loc[i, 'date_unixtime'] - row['date_unixtime'] < 8 * 60 * 60:\n",
    "            dialog.loc[i, 'answer'] = row['text']\n",
    "        else:\n",
    "            dialog.loc[i, 'answer'] = np.nan\n",
    "    return dialog"
   ]
  },
  {
   "cell_type": "code",
   "execution_count": null,
   "id": "e7e046bd",
   "metadata": {
    "scrolled": false
   },
   "outputs": [],
   "source": [
    "for idx, row in personal_chats.loc[:, :].iterrows():\n",
    "    print('Building data for:', idx, row['name'])\n",
    "    messages = shrink(get_messages(data, row['id']))\n",
    "    if len(messages) == 0:\n",
    "        continue\n",
    "    dialog = build_dialog(messages)\n",
    "    raw_name = row['name']\n",
    "    if row['name'] is None:\n",
    "        raw_name = 'DEFAULT'\n",
    "    name = re.sub(r'\\W+', '', raw_name)\n",
    "    \n",
    "    i = 0\n",
    "    while os.path.exists(f'{BASIC_PATH}/data/messages/{translit(name, \"ru\", reversed=True) + str(i)}.csv'):\n",
    "        i+=1\n",
    "    \n",
    "    print('Saving... <', f'{BASIC_PATH}/data/messages/{translit(name, \"ru\", reversed=True) + str(i)}.csv', sep='=' * 10)\n",
    "    dialog.to_csv(f'{BASIC_PATH}/data/messages/{translit(name, \"ru\", reversed=True) + str(i)}.csv')"
   ]
  },
  {
   "cell_type": "code",
   "execution_count": null,
   "id": "ccf0d073",
   "metadata": {},
   "outputs": [],
   "source": [
    "os.listdir(f'{BASIC_PATH}/data/messages')"
   ]
  },
  {
   "cell_type": "code",
   "execution_count": null,
   "id": "baf91273",
   "metadata": {},
   "outputs": [],
   "source": [
    "df = pd.DataFrame()\n",
    "for filename in os.listdir(f'{BASIC_PATH}/data/messages'):\n",
    "    df = pd.concat([df, pd.read_csv(f'{BASIC_PATH}/data/messages/{filename}', encoding = \"utf-8\")], axis=0, ).drop(columns=['Unnamed: 0'])\n",
    "df"
   ]
  },
  {
   "cell_type": "code",
   "execution_count": null,
   "id": "f9c20a4d",
   "metadata": {},
   "outputs": [],
   "source": [
    "df = df[~df['answer'].isin([np.nan, None, '']) & ~df['prompt'].isin([np.nan, None, ''])]\n",
    "df"
   ]
  },
  {
   "cell_type": "code",
   "execution_count": 37,
   "id": "9b83cf1d",
   "metadata": {},
   "outputs": [],
   "source": [
    "df.to_csv(f'{BASIC_PATH}/data/messages/full.csv', index=False)"
   ]
  },
  {
   "cell_type": "code",
   "execution_count": null,
   "id": "7984c153",
   "metadata": {},
   "outputs": [],
   "source": []
  }
 ],
 "metadata": {
  "kernelspec": {
   "display_name": "Python 3 (ipykernel)",
   "language": "python",
   "name": "python3"
  },
  "language_info": {
   "codemirror_mode": {
    "name": "ipython",
    "version": 3
   },
   "file_extension": ".py",
   "mimetype": "text/x-python",
   "name": "python",
   "nbconvert_exporter": "python",
   "pygments_lexer": "ipython3",
   "version": "3.8.12"
  }
 },
 "nbformat": 4,
 "nbformat_minor": 5
}
