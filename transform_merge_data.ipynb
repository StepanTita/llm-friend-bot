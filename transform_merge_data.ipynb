{
 "cells": [
  {
   "cell_type": "code",
   "execution_count": 25,
   "id": "e15f1330",
   "metadata": {},
   "outputs": [],
   "source": [
    "import pandas as pd\n",
    "import numpy as np"
   ]
  },
  {
   "cell_type": "markdown",
   "id": "f2dbc40e",
   "metadata": {},
   "source": [
    "# Prepare anekdots"
   ]
  },
  {
   "cell_type": "code",
   "execution_count": 26,
   "id": "d6352fa6",
   "metadata": {},
   "outputs": [],
   "source": [
    "with open('./Data/extract_dialogues_from_anekdots.txt') as f:\n",
    "    text = f.read()"
   ]
  },
  {
   "cell_type": "code",
   "execution_count": 27,
   "id": "cbb7273a",
   "metadata": {},
   "outputs": [
    {
     "data": {
      "text/plain": [
       "['- Как водичка ?\\n- А я здесь как женшина сижу, а не как термометр.',\n",
       " '- Я затрудняюсь поставить вам диагноз ... Наверное, это алкоголизм.\\n- Хорошо, доктор. Я приду, когда Вы будете трезвым.',\n",
       " '- Что такое дефицит в маркистском понимании?\\n- Это объективная реальность, не данная нам в ощущениях.\\n- Это вы в идеалистическом понимании, а в практическом?\\n- Объективная реальность данная в ощущениях, но не нам.',\n",
       " '- Можно у вас срочно отремонтировать часы?\\n- Нет\\n- Что такое\\n- Нет\\n- А что здесь делают?\\n- Здесь делают обрезание\\n- Тогда какого черта вы повесили циферблат над входом?\\n- А что б вы хотели, чтоб мы там повесили?',\n",
       " '- Из-за тебя я проиграл уйму денег!\\n- Почему ты не заговорил?\\n- Чудак!\\n- Ты только представь, сколько денег мы загребем завтра.',\n",
       " '- Входите,\\n- Через 15 минут вам на операцию. А пока отдыхайте.\\n- Сестра!\\n- Не обьясните мне, почему вы стучали в дверь перед тем, как войти???',\n",
       " '- Я на этом автобусе до вокзала доеду?\\n- Нет. Второй чукча: - А я?',\n",
       " '- Хаим, если бы у тебя был миллион долларов, что бы ты сделал?\\n- Ничего.\\n- Как ничего?\\n- А зачем?',\n",
       " '- Мужики, изолента есть?\\n- Нет. Еж уползает. Через некоторое время опять появляется.\\n- Мужики!\\n- Ну чего тебе? Ведь сказали, что нет изоленты.\\n- Теперь есть, я принес. Держите!',\n",
       " '- Финляндия.\\n- Не знаю уж чем там отбил мяч Черчесов. Мяч едва не пролетел у него между ног.']"
      ]
     },
     "execution_count": 27,
     "metadata": {},
     "output_type": "execute_result"
    }
   ],
   "source": [
    "anekdots = text.split('\\n\\n\\n\\n')\n",
    "anekdots[:10]"
   ]
  },
  {
   "cell_type": "code",
   "execution_count": 28,
   "id": "2458d164",
   "metadata": {},
   "outputs": [],
   "source": [
    "SP1 = '@@ПЕРВЫЙ@@'\n",
    "SP2 = '@@ВТОРОЙ@@'"
   ]
  },
  {
   "cell_type": "code",
   "execution_count": 29,
   "id": "37c54c80",
   "metadata": {},
   "outputs": [],
   "source": [
    "def build_dialog_anekdots(text):\n",
    "    dialog = SP1 + ' '\n",
    "    for i, txt in enumerate(text.split('\\n')):\n",
    "        speaker = SP1 if i % 2 == 1 else SP2\n",
    "        dialog += txt.lstrip('- ')\n",
    "        if i + 1 != len(text.split('\\n')):\n",
    "            dialog += ' ' + speaker + ' '\n",
    "    return dialog"
   ]
  },
  {
   "cell_type": "code",
   "execution_count": 30,
   "id": "cfb82bc8",
   "metadata": {},
   "outputs": [
    {
     "data": {
      "text/plain": [
       "['@@ПЕРВЫЙ@@ Как водичка ? @@ВТОРОЙ@@ А я здесь как женшина сижу, а не как термометр.',\n",
       " '@@ПЕРВЫЙ@@ Я затрудняюсь поставить вам диагноз ... Наверное, это алкоголизм. @@ВТОРОЙ@@ Хорошо, доктор. Я приду, когда Вы будете трезвым.',\n",
       " '@@ПЕРВЫЙ@@ Что такое дефицит в маркистском понимании? @@ВТОРОЙ@@ Это объективная реальность, не данная нам в ощущениях. @@ПЕРВЫЙ@@ Это вы в идеалистическом понимании, а в практическом? @@ВТОРОЙ@@ Объективная реальность данная в ощущениях, но не нам.',\n",
       " '@@ПЕРВЫЙ@@ Можно у вас срочно отремонтировать часы? @@ВТОРОЙ@@ Нет @@ПЕРВЫЙ@@ Что такое @@ВТОРОЙ@@ Нет @@ПЕРВЫЙ@@ А что здесь делают? @@ВТОРОЙ@@ Здесь делают обрезание @@ПЕРВЫЙ@@ Тогда какого черта вы повесили циферблат над входом? @@ВТОРОЙ@@ А что б вы хотели, чтоб мы там повесили?',\n",
       " '@@ПЕРВЫЙ@@ Из-за тебя я проиграл уйму денег! @@ВТОРОЙ@@ Почему ты не заговорил? @@ПЕРВЫЙ@@ Чудак! @@ВТОРОЙ@@ Ты только представь, сколько денег мы загребем завтра.',\n",
       " '@@ПЕРВЫЙ@@ Входите, @@ВТОРОЙ@@ Через 15 минут вам на операцию. А пока отдыхайте. @@ПЕРВЫЙ@@ Сестра! @@ВТОРОЙ@@ Не обьясните мне, почему вы стучали в дверь перед тем, как войти???',\n",
       " '@@ПЕРВЫЙ@@ Я на этом автобусе до вокзала доеду? @@ВТОРОЙ@@ Нет. Второй чукча: - А я?',\n",
       " '@@ПЕРВЫЙ@@ Хаим, если бы у тебя был миллион долларов, что бы ты сделал? @@ВТОРОЙ@@ Ничего. @@ПЕРВЫЙ@@ Как ничего? @@ВТОРОЙ@@ А зачем?',\n",
       " '@@ПЕРВЫЙ@@ Мужики, изолента есть? @@ВТОРОЙ@@ Нет. Еж уползает. Через некоторое время опять появляется. @@ПЕРВЫЙ@@ Мужики! @@ВТОРОЙ@@ Ну чего тебе? Ведь сказали, что нет изоленты. @@ПЕРВЫЙ@@ Теперь есть, я принес. Держите!',\n",
       " '@@ПЕРВЫЙ@@ Финляндия. @@ВТОРОЙ@@ Не знаю уж чем там отбил мяч Черчесов. Мяч едва не пролетел у него между ног.']"
      ]
     },
     "execution_count": 30,
     "metadata": {},
     "output_type": "execute_result"
    }
   ],
   "source": [
    "anekdots = list(map(build_dialog_anekdots, anekdots))\n",
    "anekdots[:10]"
   ]
  },
  {
   "cell_type": "markdown",
   "id": "71a0a605",
   "metadata": {},
   "source": [
    "# Prepare arithmetic"
   ]
  },
  {
   "cell_type": "code",
   "execution_count": 31,
   "id": "7278c845",
   "metadata": {},
   "outputs": [],
   "source": [
    "with open('./Data/qa_arith_10.txt') as f:\n",
    "    text = f.read()\n",
    "    \n",
    "with open('./Data/qa_arith_10.test.txt') as f:\n",
    "    text += f.read()"
   ]
  },
  {
   "cell_type": "code",
   "execution_count": 32,
   "id": "99a528aa",
   "metadata": {},
   "outputs": [
    {
     "data": {
      "text/plain": [
       "['Q: Утром литовец покормил котика 2 раза, а после обеда еще 16 раз. Сколько всего раз он покормил котика?\\nA: 18',\n",
       " 'Q: В понедельник кузнец сфотографировал 19 пирожков, а во вторник еще 16. Сколько всего пирожков он сфотографировал за эти два дня?\\nA: 35',\n",
       " 'Q: Что надо подставить вместо f, чтобы выражение f-58=73 стало верным?\\nA: 131',\n",
       " 'Q: Реши примеры на сложение: 69+17=?\\nA: 86',\n",
       " 'Q: Допустим, a=12, b=37. Чему равно a+b в этом случае?\\nA: 49',\n",
       " 'Q: допустим, x=71, y=12. Чему равняется x+y при таком условии?\\nA: 83',\n",
       " 'Q: пусть A=34 B=68. чему будет равняться A+B?\\nA: 102',\n",
       " 'Q: Чему равна сумма d и f, если d=5, f=32?\\nA: 37',\n",
       " 'Q: Чему равно X+Y, если X=92, Y=69?\\nA: 161',\n",
       " 'Q: Чему равняется X+Y, если X=53, а Y=20?\\nA: 73']"
      ]
     },
     "execution_count": 32,
     "metadata": {},
     "output_type": "execute_result"
    }
   ],
   "source": [
    "arith = text.split('\\n\\n')\n",
    "arith[:10]"
   ]
  },
  {
   "cell_type": "code",
   "execution_count": 33,
   "id": "94b9ff9d",
   "metadata": {},
   "outputs": [],
   "source": [
    "def build_dialog_arith(text):\n",
    "    dialog = SP1 + ' '\n",
    "    for i, txt in enumerate(text.split('\\n')):\n",
    "        speaker = SP1 if i % 2 == 1 else SP2\n",
    "        dialog += txt.lstrip('Q: ').lstrip('A: ')\n",
    "        if i + 1 != len(text.split('\\n')):\n",
    "            dialog += ' ' + speaker + ' '\n",
    "    return dialog"
   ]
  },
  {
   "cell_type": "code",
   "execution_count": 34,
   "id": "7ac389bd",
   "metadata": {},
   "outputs": [
    {
     "data": {
      "text/plain": [
       "['@@ПЕРВЫЙ@@ Утром литовец покормил котика 2 раза, а после обеда еще 16 раз. Сколько всего раз он покормил котика? @@ВТОРОЙ@@ 18',\n",
       " '@@ПЕРВЫЙ@@ В понедельник кузнец сфотографировал 19 пирожков, а во вторник еще 16. Сколько всего пирожков он сфотографировал за эти два дня? @@ВТОРОЙ@@ 35',\n",
       " '@@ПЕРВЫЙ@@ Что надо подставить вместо f, чтобы выражение f-58=73 стало верным? @@ВТОРОЙ@@ 131',\n",
       " '@@ПЕРВЫЙ@@ Реши примеры на сложение: 69+17=? @@ВТОРОЙ@@ 86',\n",
       " '@@ПЕРВЫЙ@@ Допустим, a=12, b=37. Чему равно a+b в этом случае? @@ВТОРОЙ@@ 49',\n",
       " '@@ПЕРВЫЙ@@ допустим, x=71, y=12. Чему равняется x+y при таком условии? @@ВТОРОЙ@@ 83',\n",
       " '@@ПЕРВЫЙ@@ пусть A=34 B=68. чему будет равняться A+B? @@ВТОРОЙ@@ 102',\n",
       " '@@ПЕРВЫЙ@@ Чему равна сумма d и f, если d=5, f=32? @@ВТОРОЙ@@ 37',\n",
       " '@@ПЕРВЫЙ@@ Чему равно X+Y, если X=92, Y=69? @@ВТОРОЙ@@ 161',\n",
       " '@@ПЕРВЫЙ@@ Чему равняется X+Y, если X=53, а Y=20? @@ВТОРОЙ@@ 73']"
      ]
     },
     "execution_count": 34,
     "metadata": {},
     "output_type": "execute_result"
    }
   ],
   "source": [
    "arith = list(map(build_dialog_arith, arith))\n",
    "arith[:10]"
   ]
  },
  {
   "cell_type": "markdown",
   "id": "4f818613",
   "metadata": {},
   "source": [
    "# Prepare TG"
   ]
  },
  {
   "cell_type": "code",
   "execution_count": null,
   "id": "56601ab5",
   "metadata": {},
   "outputs": [],
   "source": [
    "data = pd.read_csv('./Data/messages/full.csv')"
   ]
  },
  {
   "cell_type": "code",
   "execution_count": 36,
   "id": "225a9549",
   "metadata": {},
   "outputs": [
    {
     "data": {
      "text/html": [
       "<div>\n",
       "<style scoped>\n",
       "    .dataframe tbody tr th:only-of-type {\n",
       "        vertical-align: middle;\n",
       "    }\n",
       "\n",
       "    .dataframe tbody tr th {\n",
       "        vertical-align: top;\n",
       "    }\n",
       "\n",
       "    .dataframe thead th {\n",
       "        text-align: right;\n",
       "    }\n",
       "</style>\n",
       "<table border=\"1\" class=\"dataframe\">\n",
       "  <thead>\n",
       "    <tr style=\"text-align: right;\">\n",
       "      <th></th>\n",
       "      <th>text</th>\n",
       "    </tr>\n",
       "  </thead>\n",
       "  <tbody>\n",
       "    <tr>\n",
       "      <th>0</th>\n",
       "      <td>@@ПЕРВЫЙ@@ Как водичка ? @@ВТОРОЙ@@ А я здесь ...</td>\n",
       "    </tr>\n",
       "    <tr>\n",
       "      <th>1</th>\n",
       "      <td>@@ПЕРВЫЙ@@ Я затрудняюсь поставить вам диагноз...</td>\n",
       "    </tr>\n",
       "    <tr>\n",
       "      <th>2</th>\n",
       "      <td>@@ПЕРВЫЙ@@ Что такое дефицит в маркистском пон...</td>\n",
       "    </tr>\n",
       "    <tr>\n",
       "      <th>3</th>\n",
       "      <td>@@ПЕРВЫЙ@@ Можно у вас срочно отремонтировать ...</td>\n",
       "    </tr>\n",
       "    <tr>\n",
       "      <th>4</th>\n",
       "      <td>@@ПЕРВЫЙ@@ Из-за тебя я проиграл уйму денег! @...</td>\n",
       "    </tr>\n",
       "    <tr>\n",
       "      <th>...</th>\n",
       "      <td>...</td>\n",
       "    </tr>\n",
       "    <tr>\n",
       "      <th>87715</th>\n",
       "      <td>@@ПЕРВЫЙ@@ Дорогая, выходи за меня замуж. @@ВТ...</td>\n",
       "    </tr>\n",
       "    <tr>\n",
       "      <th>87716</th>\n",
       "      <td>@@ПЕРВЫЙ@@ Поздравляем! У вас сегодня родились...</td>\n",
       "    </tr>\n",
       "    <tr>\n",
       "      <th>87717</th>\n",
       "      <td>@@ПЕРВЫЙ@@ Что ты там делаешь, сынок? @@ВТОРОЙ...</td>\n",
       "    </tr>\n",
       "    <tr>\n",
       "      <th>87718</th>\n",
       "      <td>@@ПЕРВЫЙ@@ Алло, милиция?! @@ВТОРОЙ@@ Да! @@ПЕ...</td>\n",
       "    </tr>\n",
       "    <tr>\n",
       "      <th>87719</th>\n",
       "      <td>@@ПЕРВЫЙ@@ Пап, я в пятницу на свадьбу иду, да...</td>\n",
       "    </tr>\n",
       "  </tbody>\n",
       "</table>\n",
       "<p>87720 rows × 1 columns</p>\n",
       "</div>"
      ],
      "text/plain": [
       "                                                    text\n",
       "0      @@ПЕРВЫЙ@@ Как водичка ? @@ВТОРОЙ@@ А я здесь ...\n",
       "1      @@ПЕРВЫЙ@@ Я затрудняюсь поставить вам диагноз...\n",
       "2      @@ПЕРВЫЙ@@ Что такое дефицит в маркистском пон...\n",
       "3      @@ПЕРВЫЙ@@ Можно у вас срочно отремонтировать ...\n",
       "4      @@ПЕРВЫЙ@@ Из-за тебя я проиграл уйму денег! @...\n",
       "...                                                  ...\n",
       "87715  @@ПЕРВЫЙ@@ Дорогая, выходи за меня замуж. @@ВТ...\n",
       "87716  @@ПЕРВЫЙ@@ Поздравляем! У вас сегодня родились...\n",
       "87717  @@ПЕРВЫЙ@@ Что ты там делаешь, сынок? @@ВТОРОЙ...\n",
       "87718  @@ПЕРВЫЙ@@ Алло, милиция?! @@ВТОРОЙ@@ Да! @@ПЕ...\n",
       "87719  @@ПЕРВЫЙ@@ Пап, я в пятницу на свадьбу иду, да...\n",
       "\n",
       "[87720 rows x 1 columns]"
      ]
     },
     "execution_count": 36,
     "metadata": {},
     "output_type": "execute_result"
    }
   ],
   "source": [
    "anekdots_data = pd.DataFrame({'text': anekdots[:-1]})\n",
    "anekdots_data"
   ]
  },
  {
   "cell_type": "code",
   "execution_count": 37,
   "id": "0694a7f8",
   "metadata": {},
   "outputs": [
    {
     "data": {
      "text/html": [
       "<div>\n",
       "<style scoped>\n",
       "    .dataframe tbody tr th:only-of-type {\n",
       "        vertical-align: middle;\n",
       "    }\n",
       "\n",
       "    .dataframe tbody tr th {\n",
       "        vertical-align: top;\n",
       "    }\n",
       "\n",
       "    .dataframe thead th {\n",
       "        text-align: right;\n",
       "    }\n",
       "</style>\n",
       "<table border=\"1\" class=\"dataframe\">\n",
       "  <thead>\n",
       "    <tr style=\"text-align: right;\">\n",
       "      <th></th>\n",
       "      <th>text</th>\n",
       "    </tr>\n",
       "  </thead>\n",
       "  <tbody>\n",
       "    <tr>\n",
       "      <th>0</th>\n",
       "      <td>@@ПЕРВЫЙ@@ Утром литовец покормил котика 2 раз...</td>\n",
       "    </tr>\n",
       "    <tr>\n",
       "      <th>1</th>\n",
       "      <td>@@ПЕРВЫЙ@@ В понедельник кузнец сфотографирова...</td>\n",
       "    </tr>\n",
       "    <tr>\n",
       "      <th>2</th>\n",
       "      <td>@@ПЕРВЫЙ@@ Что надо подставить вместо f, чтобы...</td>\n",
       "    </tr>\n",
       "    <tr>\n",
       "      <th>3</th>\n",
       "      <td>@@ПЕРВЫЙ@@ Реши примеры на сложение: 69+17=? @...</td>\n",
       "    </tr>\n",
       "    <tr>\n",
       "      <th>4</th>\n",
       "      <td>@@ПЕРВЫЙ@@ Допустим, a=12, b=37. Чему равно a+...</td>\n",
       "    </tr>\n",
       "    <tr>\n",
       "      <th>...</th>\n",
       "      <td>...</td>\n",
       "    </tr>\n",
       "    <tr>\n",
       "      <th>100265</th>\n",
       "      <td>@@ПЕРВЫЙ@@ Чему равна разность 90 и 9? @@ВТОРО...</td>\n",
       "    </tr>\n",
       "    <tr>\n",
       "      <th>100266</th>\n",
       "      <td>@@ПЕРВЫЙ@@ Что получится в результате вычитани...</td>\n",
       "    </tr>\n",
       "    <tr>\n",
       "      <th>100267</th>\n",
       "      <td>@@ПЕРВЫЙ@@ А что получится, если из 0 отнять 0...</td>\n",
       "    </tr>\n",
       "    <tr>\n",
       "      <th>100268</th>\n",
       "      <td>@@ПЕРВЫЙ@@ а что получится, если из 87 вычесть...</td>\n",
       "    </tr>\n",
       "    <tr>\n",
       "      <th>100269</th>\n",
       "      <td>@@ПЕРВЫЙ@@ Пусть x равно 58, а  y равно 27. че...</td>\n",
       "    </tr>\n",
       "  </tbody>\n",
       "</table>\n",
       "<p>100270 rows × 1 columns</p>\n",
       "</div>"
      ],
      "text/plain": [
       "                                                     text\n",
       "0       @@ПЕРВЫЙ@@ Утром литовец покормил котика 2 раз...\n",
       "1       @@ПЕРВЫЙ@@ В понедельник кузнец сфотографирова...\n",
       "2       @@ПЕРВЫЙ@@ Что надо подставить вместо f, чтобы...\n",
       "3       @@ПЕРВЫЙ@@ Реши примеры на сложение: 69+17=? @...\n",
       "4       @@ПЕРВЫЙ@@ Допустим, a=12, b=37. Чему равно a+...\n",
       "...                                                   ...\n",
       "100265  @@ПЕРВЫЙ@@ Чему равна разность 90 и 9? @@ВТОРО...\n",
       "100266  @@ПЕРВЫЙ@@ Что получится в результате вычитани...\n",
       "100267  @@ПЕРВЫЙ@@ А что получится, если из 0 отнять 0...\n",
       "100268  @@ПЕРВЫЙ@@ а что получится, если из 87 вычесть...\n",
       "100269  @@ПЕРВЫЙ@@ Пусть x равно 58, а  y равно 27. че...\n",
       "\n",
       "[100270 rows x 1 columns]"
      ]
     },
     "execution_count": 37,
     "metadata": {},
     "output_type": "execute_result"
    }
   ],
   "source": [
    "arith_data = pd.DataFrame({'text': arith[:-1]})\n",
    "arith_data"
   ]
  },
  {
   "cell_type": "code",
   "execution_count": null,
   "id": "0d343bde",
   "metadata": {},
   "outputs": [],
   "source": [
    "tg_data = pd.DataFrame({'text': SP1 + ' ' + data['prompt'] + ' ' + SP2 + ' ' + data['answer']})"
   ]
  },
  {
   "cell_type": "code",
   "execution_count": 55,
   "id": "d2bb6dd1",
   "metadata": {},
   "outputs": [],
   "source": [
    "anekdots_data.to_csv('./data/sources/anekdots.csv', index=False)"
   ]
  },
  {
   "cell_type": "code",
   "execution_count": 56,
   "id": "707fa8a2",
   "metadata": {},
   "outputs": [],
   "source": [
    "arith_data.to_csv('./data/sources/arith.csv', index=False)"
   ]
  },
  {
   "cell_type": "code",
   "execution_count": 57,
   "id": "6ba4e62f",
   "metadata": {},
   "outputs": [],
   "source": [
    "tg_data.to_csv('./data/sources/tg.csv', index=False)"
   ]
  },
  {
   "cell_type": "code",
   "execution_count": null,
   "id": "97ea1615",
   "metadata": {},
   "outputs": [],
   "source": [
    "# .sample(int(0.2 * len(anekdots_data)))\n",
    "# .sample(int(0.2 * len(arith_data)))\n",
    "data_final = pd.concat([anekdots_data, arith_data, tg_data], axis=0)\n",
    "data_final"
   ]
  },
  {
   "cell_type": "code",
   "execution_count": null,
   "id": "3ce9dc49",
   "metadata": {},
   "outputs": [],
   "source": [
    "data_final = data_final#.sample(len(data_final))\n",
    "data_final"
   ]
  },
  {
   "cell_type": "code",
   "execution_count": 60,
   "id": "50827b9f",
   "metadata": {},
   "outputs": [],
   "source": [
    "data_final.to_csv('./Data/anekdots_arith_tg_stratified.csv', index=False)"
   ]
  },
  {
   "cell_type": "code",
   "execution_count": null,
   "id": "76082a1a",
   "metadata": {},
   "outputs": [],
   "source": []
  }
 ],
 "metadata": {
  "kernelspec": {
   "display_name": "Python 3 (ipykernel)",
   "language": "python",
   "name": "python3"
  },
  "language_info": {
   "codemirror_mode": {
    "name": "ipython",
    "version": 3
   },
   "file_extension": ".py",
   "mimetype": "text/x-python",
   "name": "python",
   "nbconvert_exporter": "python",
   "pygments_lexer": "ipython3",
   "version": "3.8.12"
  }
 },
 "nbformat": 4,
 "nbformat_minor": 5
}
